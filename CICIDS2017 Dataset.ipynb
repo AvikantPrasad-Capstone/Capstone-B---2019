{
 "cells": [
  {
   "cell_type": "code",
   "execution_count": 15,
   "metadata": {},
   "outputs": [],
   "source": [
    "import pandas as pd\n",
    "import tensorflow as tf\n",
    "import numpy as np\n",
    "import scipy.io\n",
    "from sklearn.preprocessing import StandardScaler\n",
    "from sklearn.decomposition import PCA\n",
    "from sklearn.model_selection import train_test_split\n",
    "from sklearn import preprocessing\n",
    "from keras.models import Sequential\n",
    "from keras.callbacks import EarlyStopping\n",
    "from sklearn.metrics import accuracy_score\n",
    "from sklearn.metrics import precision_score\n",
    "from sklearn.metrics import recall_score\n",
    "from sklearn import metrics\n",
    "from keras.layers.core import Dense, Activation"
   ]
  },
  {
   "cell_type": "code",
   "execution_count": 16,
   "metadata": {},
   "outputs": [],
   "source": [
    "df = pd.read_csv(r'c:\\Users\\Dataset.csv', index_col=None, na_values=['NA'], sep=',', low_memory=False)"
   ]
  },
  {
   "cell_type": "code",
   "execution_count": 17,
   "metadata": {},
   "outputs": [],
   "source": [
    "#Convert Malicious packets into true and Benign into false\n",
    "\n",
    "df['target'] = df[' Label'] != 'BENIGN'\n",
    "df = df.drop(' Label', axis=1)\n",
    "df = df.replace(['Infinity'], np.nan)\n"
   ]
  },
  {
   "cell_type": "code",
   "execution_count": 18,
   "metadata": {},
   "outputs": [],
   "source": [
    "#cleaning up data and dropping NaN and Infinity Values\n",
    "df = df.dropna()\n",
    "assert pd.isnull(df).sum().sum() == 0 \n",
    "assert pd.isna(df).sum().sum() == 0\n",
    "\n",
    "#Replace NaN and infinity values \n",
    "df['Flow Bytes/s'] = df['Flow Bytes/s'].replace(np.nan, 0)\n",
    "df.replace(np.nan, 0, inplace=True)"
   ]
  },
  {
   "cell_type": "code",
   "execution_count": 19,
   "metadata": {},
   "outputs": [],
   "source": [
    "#Split Features \n",
    "x = df.drop('target', axis=1)\n",
    "y = df[['target']]"
   ]
  },
  {
   "cell_type": "code",
   "execution_count": 20,
   "metadata": {},
   "outputs": [
    {
     "data": {
      "text/html": [
       "<div>\n",
       "<style scoped>\n",
       "    .dataframe tbody tr th:only-of-type {\n",
       "        vertical-align: middle;\n",
       "    }\n",
       "\n",
       "    .dataframe tbody tr th {\n",
       "        vertical-align: top;\n",
       "    }\n",
       "\n",
       "    .dataframe thead th {\n",
       "        text-align: right;\n",
       "    }\n",
       "</style>\n",
       "<table border=\"1\" class=\"dataframe\">\n",
       "  <thead>\n",
       "    <tr style=\"text-align: right;\">\n",
       "      <th></th>\n",
       "      <th>Destination Port</th>\n",
       "      <th>Flow Duration</th>\n",
       "      <th>Total Fwd Packets</th>\n",
       "      <th>Total Backward Packets</th>\n",
       "      <th>Total Length of Fwd Packets</th>\n",
       "      <th>Total Length of Bwd Packets</th>\n",
       "      <th>Fwd Packet Length Max</th>\n",
       "      <th>Fwd Packet Length Min</th>\n",
       "      <th>Fwd Packet Length Mean</th>\n",
       "      <th>Fwd Packet Length Std</th>\n",
       "      <th>...</th>\n",
       "      <th>act_data_pkt_fwd</th>\n",
       "      <th>min_seg_size_forward</th>\n",
       "      <th>Active Mean</th>\n",
       "      <th>Active Std</th>\n",
       "      <th>Active Max</th>\n",
       "      <th>Active Min</th>\n",
       "      <th>Idle Mean</th>\n",
       "      <th>Idle Std</th>\n",
       "      <th>Idle Max</th>\n",
       "      <th>Idle Min</th>\n",
       "    </tr>\n",
       "  </thead>\n",
       "  <tbody>\n",
       "    <tr>\n",
       "      <th>0</th>\n",
       "      <td>-0.356380</td>\n",
       "      <td>-0.654735</td>\n",
       "      <td>-0.011460</td>\n",
       "      <td>-0.009372</td>\n",
       "      <td>-0.089171</td>\n",
       "      <td>-0.007588</td>\n",
       "      <td>-0.377384</td>\n",
       "      <td>-0.177020</td>\n",
       "      <td>-0.346490</td>\n",
       "      <td>-0.366976</td>\n",
       "      <td>...</td>\n",
       "      <td>-0.008567</td>\n",
       "      <td>-1.068350</td>\n",
       "      <td>-0.131771</td>\n",
       "      <td>-0.100491</td>\n",
       "      <td>-0.148812</td>\n",
       "      <td>-0.104465</td>\n",
       "      <td>-0.580707</td>\n",
       "      <td>-0.105787</td>\n",
       "      <td>-0.585977</td>\n",
       "      <td>-0.57149</td>\n",
       "    </tr>\n",
       "    <tr>\n",
       "      <th>1</th>\n",
       "      <td>-0.336726</td>\n",
       "      <td>-0.655620</td>\n",
       "      <td>0.001911</td>\n",
       "      <td>-0.005312</td>\n",
       "      <td>-0.062264</td>\n",
       "      <td>-0.007446</td>\n",
       "      <td>-0.256570</td>\n",
       "      <td>-0.294406</td>\n",
       "      <td>-0.285411</td>\n",
       "      <td>-0.228011</td>\n",
       "      <td>...</td>\n",
       "      <td>-0.002979</td>\n",
       "      <td>0.829301</td>\n",
       "      <td>-0.131771</td>\n",
       "      <td>-0.100491</td>\n",
       "      <td>-0.148812</td>\n",
       "      <td>-0.104465</td>\n",
       "      <td>-0.580707</td>\n",
       "      <td>-0.105787</td>\n",
       "      <td>-0.585977</td>\n",
       "      <td>-0.57149</td>\n",
       "    </tr>\n",
       "    <tr>\n",
       "      <th>2</th>\n",
       "      <td>-0.355871</td>\n",
       "      <td>-0.655605</td>\n",
       "      <td>0.000574</td>\n",
       "      <td>-0.004297</td>\n",
       "      <td>0.420442</td>\n",
       "      <td>-0.006187</td>\n",
       "      <td>2.219292</td>\n",
       "      <td>-0.294406</td>\n",
       "      <td>1.612049</td>\n",
       "      <td>2.428138</td>\n",
       "      <td>...</td>\n",
       "      <td>-0.004376</td>\n",
       "      <td>0.829301</td>\n",
       "      <td>-0.131771</td>\n",
       "      <td>-0.100491</td>\n",
       "      <td>-0.148812</td>\n",
       "      <td>-0.104465</td>\n",
       "      <td>-0.580707</td>\n",
       "      <td>-0.105787</td>\n",
       "      <td>-0.585977</td>\n",
       "      <td>-0.57149</td>\n",
       "    </tr>\n",
       "    <tr>\n",
       "      <th>3</th>\n",
       "      <td>-0.336726</td>\n",
       "      <td>-0.655275</td>\n",
       "      <td>0.009934</td>\n",
       "      <td>0.001794</td>\n",
       "      <td>0.469393</td>\n",
       "      <td>-0.004622</td>\n",
       "      <td>1.785685</td>\n",
       "      <td>-0.294406</td>\n",
       "      <td>0.902531</td>\n",
       "      <td>1.514421</td>\n",
       "      <td>...</td>\n",
       "      <td>0.005403</td>\n",
       "      <td>0.829301</td>\n",
       "      <td>-0.131771</td>\n",
       "      <td>-0.100491</td>\n",
       "      <td>-0.148812</td>\n",
       "      <td>-0.104465</td>\n",
       "      <td>-0.580707</td>\n",
       "      <td>-0.105787</td>\n",
       "      <td>-0.585977</td>\n",
       "      <td>-0.57149</td>\n",
       "    </tr>\n",
       "    <tr>\n",
       "      <th>4</th>\n",
       "      <td>-0.355871</td>\n",
       "      <td>-0.655605</td>\n",
       "      <td>-0.000763</td>\n",
       "      <td>-0.004297</td>\n",
       "      <td>0.420442</td>\n",
       "      <td>-0.006186</td>\n",
       "      <td>2.219292</td>\n",
       "      <td>-0.294406</td>\n",
       "      <td>1.833890</td>\n",
       "      <td>2.701870</td>\n",
       "      <td>...</td>\n",
       "      <td>-0.005773</td>\n",
       "      <td>0.829301</td>\n",
       "      <td>-0.131771</td>\n",
       "      <td>-0.100491</td>\n",
       "      <td>-0.148812</td>\n",
       "      <td>-0.104465</td>\n",
       "      <td>-0.580707</td>\n",
       "      <td>-0.105787</td>\n",
       "      <td>-0.585977</td>\n",
       "      <td>-0.57149</td>\n",
       "    </tr>\n",
       "  </tbody>\n",
       "</table>\n",
       "<p>5 rows × 78 columns</p>\n",
       "</div>"
      ],
      "text/plain": [
       "    Destination Port   Flow Duration   Total Fwd Packets  \\\n",
       "0          -0.356380       -0.654735           -0.011460   \n",
       "1          -0.336726       -0.655620            0.001911   \n",
       "2          -0.355871       -0.655605            0.000574   \n",
       "3          -0.336726       -0.655275            0.009934   \n",
       "4          -0.355871       -0.655605           -0.000763   \n",
       "\n",
       "    Total Backward Packets  Total Length of Fwd Packets  \\\n",
       "0                -0.009372                    -0.089171   \n",
       "1                -0.005312                    -0.062264   \n",
       "2                -0.004297                     0.420442   \n",
       "3                 0.001794                     0.469393   \n",
       "4                -0.004297                     0.420442   \n",
       "\n",
       "    Total Length of Bwd Packets   Fwd Packet Length Max  \\\n",
       "0                     -0.007588               -0.377384   \n",
       "1                     -0.007446               -0.256570   \n",
       "2                     -0.006187                2.219292   \n",
       "3                     -0.004622                1.785685   \n",
       "4                     -0.006186                2.219292   \n",
       "\n",
       "    Fwd Packet Length Min   Fwd Packet Length Mean   Fwd Packet Length Std  \\\n",
       "0               -0.177020                -0.346490               -0.366976   \n",
       "1               -0.294406                -0.285411               -0.228011   \n",
       "2               -0.294406                 1.612049                2.428138   \n",
       "3               -0.294406                 0.902531                1.514421   \n",
       "4               -0.294406                 1.833890                2.701870   \n",
       "\n",
       "   ...   act_data_pkt_fwd   min_seg_size_forward  Active Mean   Active Std  \\\n",
       "0  ...          -0.008567              -1.068350    -0.131771    -0.100491   \n",
       "1  ...          -0.002979               0.829301    -0.131771    -0.100491   \n",
       "2  ...          -0.004376               0.829301    -0.131771    -0.100491   \n",
       "3  ...           0.005403               0.829301    -0.131771    -0.100491   \n",
       "4  ...          -0.005773               0.829301    -0.131771    -0.100491   \n",
       "\n",
       "    Active Max   Active Min  Idle Mean   Idle Std   Idle Max   Idle Min  \n",
       "0    -0.148812    -0.104465  -0.580707  -0.105787  -0.585977   -0.57149  \n",
       "1    -0.148812    -0.104465  -0.580707  -0.105787  -0.585977   -0.57149  \n",
       "2    -0.148812    -0.104465  -0.580707  -0.105787  -0.585977   -0.57149  \n",
       "3    -0.148812    -0.104465  -0.580707  -0.105787  -0.585977   -0.57149  \n",
       "4    -0.148812    -0.104465  -0.580707  -0.105787  -0.585977   -0.57149  \n",
       "\n",
       "[5 rows x 78 columns]"
      ]
     },
     "execution_count": 20,
     "metadata": {},
     "output_type": "execute_result"
    }
   ],
   "source": [
    "#Scale the data using Standard scaler with Mean = 0 and SD = 1\n",
    "\n",
    "# Get column names from features\n",
    "col_names = x.columns\n",
    "# Creating Scaler object\n",
    "scaler_object = preprocessing.StandardScaler()\n",
    "# Fit data within the scaler object\n",
    "scaled_df = scaler_object.fit_transform(x)\n",
    "scaled_df = pd.DataFrame(scaled_df, columns=col_names)\n",
    "\n",
    "# concat into x feature \n",
    "x = pd.DataFrame(scaled_df)\n",
    "\n",
    "x[0:5]"
   ]
  },
  {
   "cell_type": "code",
   "execution_count": 21,
   "metadata": {},
   "outputs": [
    {
     "name": "stdout",
     "output_type": "stream",
     "text": [
      "[[1 0]\n",
      " [1 0]\n",
      " [1 0]\n",
      " ...\n",
      " [1 0]\n",
      " [1 0]\n",
      " [1 0]]\n"
     ]
    }
   ],
   "source": [
    "# Turn Outcomes into dummy variables \n",
    "\n",
    "dummies = pd.get_dummies(y['target'])\n",
    "\n",
    "# This will turn BENIGN values into 1 being False and all malicious packets into 0 being True. \n",
    "y = dummies.values\n",
    "\n",
    "print(y)"
   ]
  },
  {
   "cell_type": "code",
   "execution_count": 22,
   "metadata": {},
   "outputs": [
    {
     "name": "stdout",
     "output_type": "stream",
     "text": [
      "original shape:    (691406, 78)\n",
      "transformed shape: (691406, 2)\n"
     ]
    }
   ],
   "source": [
    "#Perform PCA on the feature vector to get a more precise accuracy on the dataset. Rescale from 78 features to 2 features.\n",
    "\n",
    "pca=PCA(n_components = 2)\n",
    "pca.fit(x)\n",
    "x_pca = pca.transform(x)\n",
    "print (\"original shape:   \", x.shape)\n",
    "print (\"transformed shape:\",x_pca.shape)\n",
    "\n",
    "x = x_pca"
   ]
  },
  {
   "cell_type": "code",
   "execution_count": 23,
   "metadata": {},
   "outputs": [],
   "source": [
    "#Split into test and training sets. 25% test sample \n",
    "\n",
    "x_train, x_test, y_train, y_test = train_test_split(x, y, test_size = 0.25, random_state=42)"
   ]
  },
  {
   "cell_type": "code",
   "execution_count": 45,
   "metadata": {},
   "outputs": [
    {
     "name": "stdout",
     "output_type": "stream",
     "text": [
      "Train on 518554 samples, validate on 172852 samples\n",
      "Epoch 1/100\n",
      "518554/518554 [==============================] - 58s 111us/step - loss: 0.1766 - acc: 0.9234 - val_loss: 0.1786 - val_acc: 0.9486\n",
      "Epoch 2/100\n",
      "518554/518554 [==============================] - 28s 54us/step - loss: 0.1281 - acc: 0.9452 - val_loss: 0.1076 - val_acc: 0.9640\n",
      "Epoch 3/100\n",
      "518554/518554 [==============================] - 29s 55us/step - loss: 0.1119 - acc: 0.9547 - val_loss: 0.0988 - val_acc: 0.9664\n",
      "Epoch 4/100\n",
      "518554/518554 [==============================] - 24s 45us/step - loss: 0.1058 - acc: 0.9584 - val_loss: 0.1044 - val_acc: 0.9589\n",
      "Epoch 5/100\n",
      "518554/518554 [==============================] - 24s 45us/step - loss: 0.1010 - acc: 0.9600 - val_loss: 0.0940 - val_acc: 0.9654\n",
      "Epoch 6/100\n",
      "518554/518554 [==============================] - 23s 45us/step - loss: 0.0961 - acc: 0.9629 - val_loss: 0.0890 - val_acc: 0.9666\n",
      "Epoch 7/100\n",
      "518554/518554 [==============================] - 24s 46us/step - loss: 0.0931 - acc: 0.9639 - val_loss: 0.0885 - val_acc: 0.9671\n",
      "Epoch 8/100\n",
      "518554/518554 [==============================] - 26s 50us/step - loss: 0.0912 - acc: 0.9644 - val_loss: 0.0888 - val_acc: 0.9650\n",
      "Epoch 9/100\n",
      "518554/518554 [==============================] - 24s 45us/step - loss: 0.0891 - acc: 0.9662 - val_loss: 0.0848 - val_acc: 0.9689\n",
      "Epoch 10/100\n",
      "518554/518554 [==============================] - 24s 45us/step - loss: 0.0867 - acc: 0.9673 - val_loss: 0.0841 - val_acc: 0.9679\n",
      "Epoch 11/100\n",
      "518554/518554 [==============================] - 24s 46us/step - loss: 0.0859 - acc: 0.9674 - val_loss: 0.1028 - val_acc: 0.9536\n",
      "Epoch 12/100\n",
      "518554/518554 [==============================] - 24s 46us/step - loss: 0.0843 - acc: 0.9681 - val_loss: 0.0808 - val_acc: 0.9701\n",
      "Epoch 13/100\n",
      "518554/518554 [==============================] - 28s 54us/step - loss: 0.0831 - acc: 0.9687 - val_loss: 0.0882 - val_acc: 0.9699\n",
      "Epoch 14/100\n",
      "518554/518554 [==============================] - 24s 45us/step - loss: 0.0822 - acc: 0.9691 - val_loss: 0.0965 - val_acc: 0.9641\n",
      "Epoch 15/100\n",
      "518554/518554 [==============================] - 24s 46us/step - loss: 0.0814 - acc: 0.9695 - val_loss: 0.0751 - val_acc: 0.9703\n",
      "Epoch 16/100\n",
      "518554/518554 [==============================] - 23s 45us/step - loss: 0.0808 - acc: 0.9695 - val_loss: 0.0734 - val_acc: 0.9729\n",
      "Epoch 17/100\n",
      "518554/518554 [==============================] - 24s 46us/step - loss: 0.0802 - acc: 0.9699 - val_loss: 0.0734 - val_acc: 0.9716\n",
      "Epoch 18/100\n",
      "518554/518554 [==============================] - 24s 46us/step - loss: 0.0792 - acc: 0.9703 - val_loss: 0.0738 - val_acc: 0.9721\n",
      "Epoch 19/100\n",
      "518554/518554 [==============================] - 24s 46us/step - loss: 0.0784 - acc: 0.9705 - val_loss: 0.0844 - val_acc: 0.9676\n",
      "Epoch 20/100\n",
      "518554/518554 [==============================] - 24s 46us/step - loss: 0.0779 - acc: 0.9707 - val_loss: 0.0703 - val_acc: 0.9731\n",
      "Epoch 21/100\n",
      "518554/518554 [==============================] - 24s 45us/step - loss: 0.0774 - acc: 0.9709 - val_loss: 0.0767 - val_acc: 0.9708\n",
      "Epoch 22/100\n",
      "518554/518554 [==============================] - 24s 46us/step - loss: 0.0770 - acc: 0.9712 - val_loss: 0.0806 - val_acc: 0.9713\n",
      "Epoch 23/100\n",
      "518554/518554 [==============================] - 24s 46us/step - loss: 0.0762 - acc: 0.9714 - val_loss: 0.0735 - val_acc: 0.9742\n",
      "Epoch 24/100\n",
      "518554/518554 [==============================] - 24s 46us/step - loss: 0.0760 - acc: 0.9713 - val_loss: 0.0683 - val_acc: 0.9741\n",
      "Epoch 25/100\n",
      "518554/518554 [==============================] - 24s 47us/step - loss: 0.0762 - acc: 0.9714 - val_loss: 0.0738 - val_acc: 0.9718\n",
      "Epoch 26/100\n",
      "518554/518554 [==============================] - 24s 46us/step - loss: 0.0761 - acc: 0.9713 - val_loss: 0.0728 - val_acc: 0.9720\n",
      "Epoch 27/100\n",
      "518554/518554 [==============================] - 28s 54us/step - loss: 0.0752 - acc: 0.9717 - val_loss: 0.0706 - val_acc: 0.9734\n",
      "Epoch 28/100\n",
      "518554/518554 [==============================] - 33s 63us/step - loss: 0.0754 - acc: 0.9714 - val_loss: 0.0745 - val_acc: 0.9727\n",
      "Epoch 29/100\n",
      "518554/518554 [==============================] - 36s 69us/step - loss: 0.0752 - acc: 0.9715 - val_loss: 0.0694 - val_acc: 0.9735\n",
      "Epoch 30/100\n",
      "518554/518554 [==============================] - 30s 58us/step - loss: 0.0745 - acc: 0.9720 - val_loss: 0.0781 - val_acc: 0.9710\n",
      "Epoch 00030: early stopping\n"
     ]
    }
   ],
   "source": [
    "# Create Neural Network, with 3 hidden layers and 1 output layer being subjected to the softmax probability function\n",
    "\n",
    "model = Sequential()\n",
    "\n",
    "model.add(Dense(160, input_dim = x.shape[1], activation='relu', kernel_initializer='normal'))\n",
    "model.add(Dense(100, input_dim = x.shape[1], activation='relu', kernel_initializer='normal', )) \n",
    "model.add(Dense(50, input_dim = x.shape[1],  activation='relu', kernel_initializer='normal',)) \n",
    "model.add(Dense(y.shape[1],activation='softmax')) #takes in an input and spits out 1D vector\n",
    "\n",
    "#Add in hyper parameters\n",
    "model.compile(loss='categorical_crossentropy', optimizer='adam', metrics = ['accuracy'])\n",
    "#Early stopping used to stop model from over or under fitting - stops when accuracy is no longer improving \n",
    "monitor = EarlyStopping(monitor='val_loss', min_delta=1e-3, patience=6, verbose=3, mode='auto', restore_best_weights=False, baseline=None)\n",
    "#Fit the model\n",
    "history = model.fit(x_train,y_train,validation_data=(x_test,y_test),callbacks=[monitor],verbose=1,epochs=100)"
   ]
  },
  {
   "cell_type": "code",
   "execution_count": 46,
   "metadata": {},
   "outputs": [
    {
     "name": "stdout",
     "output_type": "stream",
     "text": [
      "Accuracy: 97.09983106935412 %\n"
     ]
    }
   ],
   "source": [
    "# Measure accuracy\n",
    "predictors = model.predict(x_test)\n",
    "predictors = np.argmax(predictors,axis=1)\n",
    "prediction = np.argmax(y_test,axis=1)\n",
    "score = metrics.accuracy_score(prediction, predictors)\n",
    "print(\"Accuracy:\", score * 100,\"%\")"
   ]
  },
  {
   "cell_type": "code",
   "execution_count": 47,
   "metadata": {},
   "outputs": [
    {
     "data": {
      "text/plain": [
       "array([[106769,   3122],\n",
       "       [  1891,  61070]], dtype=int64)"
      ]
     },
     "execution_count": 47,
     "metadata": {},
     "output_type": "execute_result"
    }
   ],
   "source": [
    "from sklearn.metrics import confusion_matrix\n",
    "\n",
    "confusion_matrix(prediction,predictors)\n",
    "\n",
    "# 106769 = TP (True Positive)\n",
    "# 61070 = TN (True Negative)\n",
    "# 3122 = FP (False Positive)\n",
    "# 1891 = FN (False Negative)"
   ]
  },
  {
   "cell_type": "code",
   "execution_count": 48,
   "metadata": {},
   "outputs": [
    {
     "name": "stdout",
     "output_type": "stream",
     "text": [
      "              precision    recall  f1-score   support\n",
      "\n",
      "           0       0.98      0.97      0.98    109891\n",
      "           1       0.95      0.97      0.96     62961\n",
      "\n",
      "    accuracy                           0.97    172852\n",
      "   macro avg       0.97      0.97      0.97    172852\n",
      "weighted avg       0.97      0.97      0.97    172852\n",
      "\n"
     ]
    }
   ],
   "source": [
    "from sklearn.metrics import classification_report\n",
    "print(classification_report(prediction,predictors)) "
   ]
  },
  {
   "cell_type": "code",
   "execution_count": 49,
   "metadata": {},
   "outputs": [],
   "source": [
    "from sklearn.metrics import precision_recall_curve\n",
    "\n",
    "precision, recall, thresholds = precision_recall_curve(prediction,predictors)"
   ]
  },
  {
   "cell_type": "code",
   "execution_count": 50,
   "metadata": {},
   "outputs": [
    {
     "data": {
      "text/plain": [
       "array([0.36424803, 0.95136466, 1.        ])"
      ]
     },
     "execution_count": 50,
     "metadata": {},
     "output_type": "execute_result"
    }
   ],
   "source": [
    "#Precision\n",
    "\n",
    "precision"
   ]
  },
  {
   "cell_type": "code",
   "execution_count": 51,
   "metadata": {},
   "outputs": [
    {
     "data": {
      "text/plain": [
       "array([1.        , 0.96996553, 0.        ])"
      ]
     },
     "execution_count": 51,
     "metadata": {},
     "output_type": "execute_result"
    }
   ],
   "source": [
    "#Recall \n",
    "\n",
    "recall"
   ]
  },
  {
   "cell_type": "code",
   "execution_count": 52,
   "metadata": {},
   "outputs": [
    {
     "data": {
      "text/plain": [
       "0.9605750552484015"
      ]
     },
     "execution_count": 52,
     "metadata": {},
     "output_type": "execute_result"
    }
   ],
   "source": [
    "#F1 Score \n",
    "\n",
    "from sklearn.metrics import f1_score\n",
    "f1 = f1_score(prediction,predictors)\n",
    "\n",
    "f1"
   ]
  },
  {
   "cell_type": "code",
   "execution_count": 58,
   "metadata": {},
   "outputs": [
    {
     "data": {
      "image/png": "[encoded data removed]",
      "text/plain": [
       "<Figure size 432x288 with 1 Axes>"
      ]
     },
     "metadata": {
      "needs_background": "light"
     },
     "output_type": "display_data"
    }
   ],
   "source": [
    "# plot training history\n",
    "import matplotlib.pyplot as plt\n",
    "# summarize history for accuracy\n",
    "plt.plot(history.history['acc'])\n",
    "plt.plot(history.history['val_acc'])\n",
    "plt.title('model accuracy')\n",
    "plt.ylabel('accuracy')\n",
    "plt.xlabel('epoch')\n",
    "plt.legend(['train', 'test'], loc='lower right')\n",
    "plt.show()\n",
    "\n",
    "#show in the graph below the acurracy on both the trained and validated\n",
    "#has a ever so slight increase, meaning the model could be trained longer\n",
    "#to increase the accuracy of the model.It can also be seen that the model\n",
    "#has not been over or under fitted as both show some comparable skill."
   ]
  },
  {
   "cell_type": "code",
   "execution_count": 61,
   "metadata": {},
   "outputs": [
    {
     "data": {
      "image/png": "[encoded data removed]",
      "text/plain": [
       "<Figure size 432x288 with 1 Axes>"
      ]
     },
     "metadata": {
      "needs_background": "light"
     },
     "output_type": "display_data"
    }
   ],
   "source": [
    "# summarize history for loss\n",
    "plt.plot(history.history['loss'])\n",
    "plt.plot(history.history['val_loss'])\n",
    "plt.title('model loss')\n",
    "plt.ylabel('loss')\n",
    "plt.xlabel('epoch')\n",
    "plt.legend(['train', 'test'], loc='upper right')\n",
    "plt.show()\n",
    "\n",
    "#shown from the graph below both have comparable performance within the \n",
    "#trained and validated dataset.If the plots start to depart ways it could\n",
    "#be a sign to stop the model at an ealier epoch. "
   ]
  },
  {
   "cell_type": "code",
   "execution_count": null,
   "metadata": {},
   "outputs": [],
   "source": []
  }
 ],
 "metadata": {
  "kernelspec": {
   "display_name": "Python 3.6 (tensorflow)",
   "language": "python",
   "name": "tensorflow"
  },
  "language_info": {
   "codemirror_mode": {
    "name": "ipython",
    "version": 3
   },
   "file_extension": ".py",
   "mimetype": "text/x-python",
   "name": "python",
   "nbconvert_exporter": "python",
   "pygments_lexer": "ipython3",
   "version": "3.6.8"
  },
  "pycharm": {
   "stem_cell": {
    "cell_type": "raw",
    "metadata": {
     "collapsed": false
    },
    "source": []
   }
  }
 },
 "nbformat": 4,
 "nbformat_minor": 2
}
