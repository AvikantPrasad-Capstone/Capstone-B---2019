{
 "cells": [
  {
   "cell_type": "code",
   "execution_count": 2,
   "metadata": {},
   "outputs": [
    {
     "name": "stderr",
     "output_type": "stream",
     "text": [
      "Using TensorFlow backend.\n"
     ]
    }
   ],
   "source": [
    "import pandas as pd\n",
    "import tensorflow as tf\n",
    "import numpy as np\n",
    "import scipy.io\n",
    "from sklearn.preprocessing import StandardScaler\n",
    "from sklearn.decomposition import PCA\n",
    "from sklearn.model_selection import train_test_split\n",
    "from sklearn import preprocessing\n",
    "from keras.models import Sequential\n",
    "from keras.callbacks import EarlyStopping\n",
    "from sklearn.metrics import accuracy_score\n",
    "from sklearn.metrics import precision_score\n",
    "from sklearn.metrics import recall_score\n",
    "from sklearn import metrics\n",
    "from keras.layers.core import Dense, Activation"
   ]
  },
  {
   "cell_type": "code",
   "execution_count": 3,
   "metadata": {},
   "outputs": [],
   "source": [
    "df = pd.read_csv(r'c:\\Users\\Dataset.csv', index_col=None, na_values=['NA'], sep=',', low_memory=False)"
   ]
  },
  {
   "cell_type": "code",
   "execution_count": 4,
   "metadata": {},
   "outputs": [],
   "source": [
    "#Convert Malicious packets into true and Benign into false\n",
    "\n",
    "df['target'] = df[' Label'] != 'BENIGN'\n",
    "df = df.drop(' Label', axis=1)\n",
    "df = df.replace(['Infinity'], np.nan)\n"
   ]
  },
  {
   "cell_type": "code",
   "execution_count": 5,
   "metadata": {},
   "outputs": [],
   "source": [
    "#cleaning up data and dropping NaN and Infinity Values\n",
    "df = df.dropna()\n",
    "assert pd.isnull(df).sum().sum() == 0 \n",
    "assert pd.isna(df).sum().sum() == 0\n",
    "\n",
    "#Replace NaN and infinity values \n",
    "df['Flow Bytes/s'] = df['Flow Bytes/s'].replace(np.nan, 0)\n",
    "df.replace(np.nan, 0, inplace=True)"
   ]
  },
  {
   "cell_type": "code",
   "execution_count": 6,
   "metadata": {},
   "outputs": [],
   "source": [
    "#Split Features \n",
    "x = df.drop('target', axis=1)\n",
    "y = df[['target']]"
   ]
  },
  {
   "cell_type": "code",
   "execution_count": 7,
   "metadata": {},
   "outputs": [
    {
     "data": {
      "text/html": [
       "<div>\n",
       "<style scoped>\n",
       "    .dataframe tbody tr th:only-of-type {\n",
       "        vertical-align: middle;\n",
       "    }\n",
       "\n",
       "    .dataframe tbody tr th {\n",
       "        vertical-align: top;\n",
       "    }\n",
       "\n",
       "    .dataframe thead th {\n",
       "        text-align: right;\n",
       "    }\n",
       "</style>\n",
       "<table border=\"1\" class=\"dataframe\">\n",
       "  <thead>\n",
       "    <tr style=\"text-align: right;\">\n",
       "      <th></th>\n",
       "      <th>Destination Port</th>\n",
       "      <th>Flow Duration</th>\n",
       "      <th>Total Fwd Packets</th>\n",
       "      <th>Total Backward Packets</th>\n",
       "      <th>Total Length of Fwd Packets</th>\n",
       "      <th>Total Length of Bwd Packets</th>\n",
       "      <th>Fwd Packet Length Max</th>\n",
       "      <th>Fwd Packet Length Min</th>\n",
       "      <th>Fwd Packet Length Mean</th>\n",
       "      <th>Fwd Packet Length Std</th>\n",
       "      <th>...</th>\n",
       "      <th>act_data_pkt_fwd</th>\n",
       "      <th>min_seg_size_forward</th>\n",
       "      <th>Active Mean</th>\n",
       "      <th>Active Std</th>\n",
       "      <th>Active Max</th>\n",
       "      <th>Active Min</th>\n",
       "      <th>Idle Mean</th>\n",
       "      <th>Idle Std</th>\n",
       "      <th>Idle Max</th>\n",
       "      <th>Idle Min</th>\n",
       "    </tr>\n",
       "  </thead>\n",
       "  <tbody>\n",
       "    <tr>\n",
       "      <th>0</th>\n",
       "      <td>-0.356380</td>\n",
       "      <td>-0.654735</td>\n",
       "      <td>-0.011460</td>\n",
       "      <td>-0.009372</td>\n",
       "      <td>-0.089171</td>\n",
       "      <td>-0.007588</td>\n",
       "      <td>-0.377384</td>\n",
       "      <td>-0.177020</td>\n",
       "      <td>-0.346490</td>\n",
       "      <td>-0.366976</td>\n",
       "      <td>...</td>\n",
       "      <td>-0.008567</td>\n",
       "      <td>-1.068350</td>\n",
       "      <td>-0.131771</td>\n",
       "      <td>-0.100491</td>\n",
       "      <td>-0.148812</td>\n",
       "      <td>-0.104465</td>\n",
       "      <td>-0.580707</td>\n",
       "      <td>-0.105787</td>\n",
       "      <td>-0.585977</td>\n",
       "      <td>-0.57149</td>\n",
       "    </tr>\n",
       "    <tr>\n",
       "      <th>1</th>\n",
       "      <td>-0.336726</td>\n",
       "      <td>-0.655620</td>\n",
       "      <td>0.001911</td>\n",
       "      <td>-0.005312</td>\n",
       "      <td>-0.062264</td>\n",
       "      <td>-0.007446</td>\n",
       "      <td>-0.256570</td>\n",
       "      <td>-0.294406</td>\n",
       "      <td>-0.285411</td>\n",
       "      <td>-0.228011</td>\n",
       "      <td>...</td>\n",
       "      <td>-0.002979</td>\n",
       "      <td>0.829301</td>\n",
       "      <td>-0.131771</td>\n",
       "      <td>-0.100491</td>\n",
       "      <td>-0.148812</td>\n",
       "      <td>-0.104465</td>\n",
       "      <td>-0.580707</td>\n",
       "      <td>-0.105787</td>\n",
       "      <td>-0.585977</td>\n",
       "      <td>-0.57149</td>\n",
       "    </tr>\n",
       "    <tr>\n",
       "      <th>2</th>\n",
       "      <td>-0.355871</td>\n",
       "      <td>-0.655605</td>\n",
       "      <td>0.000574</td>\n",
       "      <td>-0.004297</td>\n",
       "      <td>0.420442</td>\n",
       "      <td>-0.006187</td>\n",
       "      <td>2.219292</td>\n",
       "      <td>-0.294406</td>\n",
       "      <td>1.612049</td>\n",
       "      <td>2.428138</td>\n",
       "      <td>...</td>\n",
       "      <td>-0.004376</td>\n",
       "      <td>0.829301</td>\n",
       "      <td>-0.131771</td>\n",
       "      <td>-0.100491</td>\n",
       "      <td>-0.148812</td>\n",
       "      <td>-0.104465</td>\n",
       "      <td>-0.580707</td>\n",
       "      <td>-0.105787</td>\n",
       "      <td>-0.585977</td>\n",
       "      <td>-0.57149</td>\n",
       "    </tr>\n",
       "    <tr>\n",
       "      <th>3</th>\n",
       "      <td>-0.336726</td>\n",
       "      <td>-0.655275</td>\n",
       "      <td>0.009934</td>\n",
       "      <td>0.001794</td>\n",
       "      <td>0.469393</td>\n",
       "      <td>-0.004622</td>\n",
       "      <td>1.785685</td>\n",
       "      <td>-0.294406</td>\n",
       "      <td>0.902531</td>\n",
       "      <td>1.514421</td>\n",
       "      <td>...</td>\n",
       "      <td>0.005403</td>\n",
       "      <td>0.829301</td>\n",
       "      <td>-0.131771</td>\n",
       "      <td>-0.100491</td>\n",
       "      <td>-0.148812</td>\n",
       "      <td>-0.104465</td>\n",
       "      <td>-0.580707</td>\n",
       "      <td>-0.105787</td>\n",
       "      <td>-0.585977</td>\n",
       "      <td>-0.57149</td>\n",
       "    </tr>\n",
       "    <tr>\n",
       "      <th>4</th>\n",
       "      <td>-0.355871</td>\n",
       "      <td>-0.655605</td>\n",
       "      <td>-0.000763</td>\n",
       "      <td>-0.004297</td>\n",
       "      <td>0.420442</td>\n",
       "      <td>-0.006186</td>\n",
       "      <td>2.219292</td>\n",
       "      <td>-0.294406</td>\n",
       "      <td>1.833890</td>\n",
       "      <td>2.701870</td>\n",
       "      <td>...</td>\n",
       "      <td>-0.005773</td>\n",
       "      <td>0.829301</td>\n",
       "      <td>-0.131771</td>\n",
       "      <td>-0.100491</td>\n",
       "      <td>-0.148812</td>\n",
       "      <td>-0.104465</td>\n",
       "      <td>-0.580707</td>\n",
       "      <td>-0.105787</td>\n",
       "      <td>-0.585977</td>\n",
       "      <td>-0.57149</td>\n",
       "    </tr>\n",
       "  </tbody>\n",
       "</table>\n",
       "<p>5 rows × 78 columns</p>\n",
       "</div>"
      ],
      "text/plain": [
       "    Destination Port   Flow Duration   Total Fwd Packets  \\\n",
       "0          -0.356380       -0.654735           -0.011460   \n",
       "1          -0.336726       -0.655620            0.001911   \n",
       "2          -0.355871       -0.655605            0.000574   \n",
       "3          -0.336726       -0.655275            0.009934   \n",
       "4          -0.355871       -0.655605           -0.000763   \n",
       "\n",
       "    Total Backward Packets  Total Length of Fwd Packets  \\\n",
       "0                -0.009372                    -0.089171   \n",
       "1                -0.005312                    -0.062264   \n",
       "2                -0.004297                     0.420442   \n",
       "3                 0.001794                     0.469393   \n",
       "4                -0.004297                     0.420442   \n",
       "\n",
       "    Total Length of Bwd Packets   Fwd Packet Length Max  \\\n",
       "0                     -0.007588               -0.377384   \n",
       "1                     -0.007446               -0.256570   \n",
       "2                     -0.006187                2.219292   \n",
       "3                     -0.004622                1.785685   \n",
       "4                     -0.006186                2.219292   \n",
       "\n",
       "    Fwd Packet Length Min   Fwd Packet Length Mean   Fwd Packet Length Std  \\\n",
       "0               -0.177020                -0.346490               -0.366976   \n",
       "1               -0.294406                -0.285411               -0.228011   \n",
       "2               -0.294406                 1.612049                2.428138   \n",
       "3               -0.294406                 0.902531                1.514421   \n",
       "4               -0.294406                 1.833890                2.701870   \n",
       "\n",
       "   ...   act_data_pkt_fwd   min_seg_size_forward  Active Mean   Active Std  \\\n",
       "0  ...          -0.008567              -1.068350    -0.131771    -0.100491   \n",
       "1  ...          -0.002979               0.829301    -0.131771    -0.100491   \n",
       "2  ...          -0.004376               0.829301    -0.131771    -0.100491   \n",
       "3  ...           0.005403               0.829301    -0.131771    -0.100491   \n",
       "4  ...          -0.005773               0.829301    -0.131771    -0.100491   \n",
       "\n",
       "    Active Max   Active Min  Idle Mean   Idle Std   Idle Max   Idle Min  \n",
       "0    -0.148812    -0.104465  -0.580707  -0.105787  -0.585977   -0.57149  \n",
       "1    -0.148812    -0.104465  -0.580707  -0.105787  -0.585977   -0.57149  \n",
       "2    -0.148812    -0.104465  -0.580707  -0.105787  -0.585977   -0.57149  \n",
       "3    -0.148812    -0.104465  -0.580707  -0.105787  -0.585977   -0.57149  \n",
       "4    -0.148812    -0.104465  -0.580707  -0.105787  -0.585977   -0.57149  \n",
       "\n",
       "[5 rows x 78 columns]"
      ]
     },
     "execution_count": 7,
     "metadata": {},
     "output_type": "execute_result"
    }
   ],
   "source": [
    "#Scale the data using Standard scaler with Mean = 0 and SD = 1\n",
    "\n",
    "# Get column names from features\n",
    "col_names = x.columns\n",
    "# Creating Scaler object\n",
    "scaler_object = preprocessing.StandardScaler()\n",
    "# Fit data within the scaler object\n",
    "scaled_df = scaler_object.fit_transform(x)\n",
    "scaled_df = pd.DataFrame(scaled_df, columns=col_names)\n",
    "\n",
    "# concat into x feature \n",
    "x = pd.DataFrame(scaled_df)\n",
    "\n",
    "x[0:5]"
   ]
  },
  {
   "cell_type": "code",
   "execution_count": 8,
   "metadata": {},
   "outputs": [
    {
     "name": "stdout",
     "output_type": "stream",
     "text": [
      "[[1 0]\n",
      " [1 0]\n",
      " [1 0]\n",
      " ...\n",
      " [1 0]\n",
      " [1 0]\n",
      " [1 0]]\n"
     ]
    }
   ],
   "source": [
    "# Turn Outcomes into dummy variables \n",
    "\n",
    "dummies = pd.get_dummies(y['target'])\n",
    "\n",
    "# This will turn BENIGN values into 1 being False and all malicious packets into 0 being True. \n",
    "y = dummies.values\n",
    "\n",
    "print(y)"
   ]
  },
  {
   "cell_type": "code",
   "execution_count": 9,
   "metadata": {},
   "outputs": [
    {
     "data": {
      "text/plain": [
       "array([[-3.56379802e-01, -6.54735460e-01, -1.14597467e-02,\n",
       "        -9.37235674e-03, -8.91708108e-02, -7.58815974e-03,\n",
       "        -3.77384006e-01, -1.77019589e-01, -3.46489635e-01,\n",
       "        -3.66976227e-01, -6.34194764e-01, -4.31602931e-01,\n",
       "        -6.85570487e-01, -6.00592871e-01, -5.83887875e-02,\n",
       "        -3.08153261e-01, -4.40917193e-01, -5.83028067e-01,\n",
       "        -5.96029103e-01, -5.01998398e-02, -6.49547665e-01,\n",
       "        -4.59857667e-01, -5.64036984e-01, -5.93899549e-01,\n",
       "        -1.16362436e-01, -4.16135027e-01, -2.76194140e-01,\n",
       "        -3.28408658e-01, -3.55996406e-01, -1.14423506e-01,\n",
       "        -2.09939380e-01,  0.00000000e+00,  0.00000000e+00,\n",
       "         0.00000000e+00, -1.42045858e-02, -1.16555317e-02,\n",
       "        -2.98644071e-01, -1.30350124e-01, -2.81287032e-01,\n",
       "        -6.53453702e-01, -7.38636978e-01, -6.68810514e-01,\n",
       "        -5.08120498e-01, -3.28554200e-01, -2.09939380e-01,\n",
       "        -1.83998745e-02, -4.90695577e-01,  1.18238142e+00,\n",
       "         3.74975820e+00,  0.00000000e+00, -1.84391619e-02,\n",
       "         7.74860797e-01, -7.46438017e-01, -3.46489635e-01,\n",
       "        -6.85570487e-01, -1.42045858e-02,  0.00000000e+00,\n",
       "         0.00000000e+00,  0.00000000e+00,  0.00000000e+00,\n",
       "         0.00000000e+00,  0.00000000e+00, -1.14597467e-02,\n",
       "        -8.91708108e-02, -9.37235674e-03, -7.58821971e-03,\n",
       "        -4.25328620e-01, -7.24975429e-02, -8.56721163e-03,\n",
       "        -1.06834962e+00, -1.31771351e-01, -1.00490989e-01,\n",
       "        -1.48812359e-01, -1.04464581e-01, -5.80706667e-01,\n",
       "        -1.05786614e-01, -5.85977276e-01, -5.71490265e-01],\n",
       "       [-3.36726225e-01, -6.55619529e-01,  1.91106589e-03,\n",
       "        -5.31196459e-03, -6.22637771e-02, -7.44551113e-03,\n",
       "        -2.56569890e-01, -2.94406482e-01, -2.85411360e-01,\n",
       "        -2.28010761e-01, -5.74165299e-01, -5.24437568e-01,\n",
       "        -6.11370040e-01, -5.19334371e-01, -2.32940332e-02,\n",
       "        -2.04947761e-01, -4.47752039e-01, -5.83025898e-01,\n",
       "        -5.97024363e-01, -6.06190339e-02, -6.49536472e-01,\n",
       "        -4.59853330e-01, -5.64034552e-01, -5.93896714e-01,\n",
       "        -1.16362323e-01, -4.16123013e-01, -2.76183700e-01,\n",
       "        -3.28399192e-01, -3.55987356e-01, -1.14423136e-01,\n",
       "        -2.09939380e-01,  0.00000000e+00,  0.00000000e+00,\n",
       "         0.00000000e+00,  8.02129411e-03, -3.73997015e-03,\n",
       "        -2.26991471e-01,  2.06097995e-01, -4.99136977e-01,\n",
       "        -5.93888831e-01, -6.75557463e-01, -5.96692523e-01,\n",
       "        -5.06294558e-01, -3.28554200e-01, -2.09939380e-01,\n",
       "        -1.83998745e-02,  2.03792340e+00, -8.45750772e-01,\n",
       "        -2.66683862e-01,  0.00000000e+00, -1.84391619e-02,\n",
       "        -9.77108346e-01, -6.90875787e-01, -2.85411360e-01,\n",
       "        -6.11370040e-01,  8.02129411e-03,  0.00000000e+00,\n",
       "         0.00000000e+00,  0.00000000e+00,  0.00000000e+00,\n",
       "         0.00000000e+00,  0.00000000e+00,  1.91106589e-03,\n",
       "        -6.22637771e-02, -5.31196459e-03, -7.44555694e-03,\n",
       "         2.01265438e+00, -1.66295189e-01, -2.97925340e-03,\n",
       "         8.29300558e-01, -1.31771351e-01, -1.00490989e-01,\n",
       "        -1.48812359e-01, -1.04464581e-01, -5.80706667e-01,\n",
       "        -1.05786614e-01, -5.85977276e-01, -5.71490265e-01],\n",
       "       [-3.55870971e-01, -6.55605133e-01,  5.73984626e-04,\n",
       "        -4.29686655e-03,  4.20441924e-01, -6.18663716e-03,\n",
       "         2.21929199e+00, -2.94406482e-01,  1.61204862e+00,\n",
       "         2.42813835e+00, -3.42824634e-02, -5.24437568e-01,\n",
       "        -3.50631952e-02,  1.39669198e-01,  1.35870608e-01,\n",
       "        -2.63097633e-01, -4.47744706e-01, -5.83010640e-01,\n",
       "        -5.97005179e-01, -6.06187619e-02, -6.49522077e-01,\n",
       "        -4.59846651e-01, -5.64018331e-01, -5.93875757e-01,\n",
       "        -1.16362323e-01, -4.16105217e-01, -2.76173416e-01,\n",
       "        -3.28376507e-01, -3.55965476e-01, -1.14423136e-01,\n",
       "        -2.09939380e-01,  0.00000000e+00,  0.00000000e+00,\n",
       "         0.00000000e+00,  5.97753503e-03, -2.11626521e-03,\n",
       "        -2.70198710e-01,  4.58613767e-02, -4.99136977e-01,\n",
       "        -5.81843848e-02,  2.48653013e-01,  1.88180725e-01,\n",
       "        -2.50279519e-01, -3.28554200e-01, -2.09939380e-01,\n",
       "        -1.83998745e-02,  2.03792340e+00, -8.45750772e-01,\n",
       "        -2.66683862e-01,  0.00000000e+00, -1.84391619e-02,\n",
       "        -9.77108346e-01,  2.19779752e-01,  1.61204862e+00,\n",
       "        -3.50631952e-02,  5.97753503e-03,  0.00000000e+00,\n",
       "         0.00000000e+00,  0.00000000e+00,  0.00000000e+00,\n",
       "         0.00000000e+00,  0.00000000e+00,  5.73984626e-04,\n",
       "         4.20441924e-01, -4.29686655e-03, -6.18655802e-03,\n",
       "         2.01265438e+00,  8.26924408e-02, -4.37624296e-03,\n",
       "         8.29300558e-01, -1.31771351e-01, -1.00490989e-01,\n",
       "        -1.48812359e-01, -1.04464581e-01, -5.80706667e-01,\n",
       "        -1.05786614e-01, -5.85977276e-01, -5.71490265e-01],\n",
       "       [-3.36726225e-01, -6.55275357e-01,  9.93355345e-03,\n",
       "         1.79372169e-03,  4.69393275e-01, -4.62196025e-03,\n",
       "         1.78568516e+00, -2.94406482e-01,  9.02530570e-01,\n",
       "         1.51442086e+00,  5.36953341e-01, -5.24437568e-01,\n",
       "         2.53838237e-03,  2.89076428e-01, -3.59449715e-02,\n",
       "        -3.02413074e-01, -4.47660766e-01, -5.82813811e-01,\n",
       "        -5.96677694e-01, -6.06190339e-02, -6.49192336e-01,\n",
       "        -4.59771616e-01, -5.63829540e-01, -5.93551365e-01,\n",
       "        -1.16362211e-01, -4.15682284e-01, -2.76051065e-01,\n",
       "        -3.28020052e-01, -3.55463294e-01, -1.14423136e-01,\n",
       "        -2.09939380e-01,  0.00000000e+00,  0.00000000e+00,\n",
       "         0.00000000e+00,  2.02838486e-02,  7.01707509e-03,\n",
       "        -2.95233384e-01, -1.05693786e-01, -4.99136977e-01,\n",
       "         5.08630377e-01,  1.57877980e-01,  2.30156348e-01,\n",
       "        -2.24402724e-01, -3.28554200e-01, -2.09939380e-01,\n",
       "        -1.83998745e-02,  2.03792340e+00, -8.45750772e-01,\n",
       "        -2.66683862e-01,  0.00000000e+00, -1.84391619e-02,\n",
       "        -9.77108346e-01,  1.06620283e-01,  9.02530570e-01,\n",
       "         2.53838237e-03,  2.02838486e-02,  0.00000000e+00,\n",
       "         0.00000000e+00,  0.00000000e+00,  0.00000000e+00,\n",
       "         0.00000000e+00,  0.00000000e+00,  9.93355345e-03,\n",
       "         4.69393275e-01,  1.79372169e-03, -4.62172579e-03,\n",
       "         2.01265438e+00, -2.01845318e-01,  5.40268395e-03,\n",
       "         8.29300558e-01, -1.31771351e-01, -1.00490989e-01,\n",
       "        -1.48812359e-01, -1.04464581e-01, -5.80706667e-01,\n",
       "        -1.05786614e-01, -5.85977276e-01, -5.71490265e-01],\n",
       "       [-3.55870971e-01, -6.55605203e-01, -7.63096633e-04,\n",
       "        -4.29686655e-03,  4.20441924e-01, -6.18574561e-03,\n",
       "         2.21929199e+00, -2.94406482e-01,  1.83388952e+00,\n",
       "         2.70186977e+00, -3.39001101e-02, -5.24437568e-01,\n",
       "        -3.46453999e-02,  1.40139205e-01,  1.36466160e-01,\n",
       "        -2.65807249e-01, -4.47743813e-01, -5.83010467e-01,\n",
       "        -5.97005595e-01, -6.06187619e-02, -6.49522148e-01,\n",
       "        -4.59845308e-01, -5.64017388e-01, -5.93875887e-01,\n",
       "        -1.16362323e-01, -4.16104618e-01, -2.76172999e-01,\n",
       "        -3.28377651e-01, -3.55966087e-01, -1.14423136e-01,\n",
       "        -2.09939380e-01,  0.00000000e+00,  0.00000000e+00,\n",
       "         0.00000000e+00,  3.93377596e-03, -2.11626521e-03,\n",
       "        -2.72980867e-01,  4.63477916e-02, -4.99136977e-01,\n",
       "        -5.78049907e-02,  3.11712617e-01,  2.30068302e-01,\n",
       "        -2.24458297e-01, -3.28554200e-01, -2.09939380e-01,\n",
       "        -1.83998745e-02,  2.03792340e+00, -8.45750772e-01,\n",
       "        -2.66683862e-01,  0.00000000e+00, -1.84391619e-02,\n",
       "        -9.77108346e-01,  2.86035880e-01,  1.83388952e+00,\n",
       "        -3.46453999e-02,  3.93377596e-03,  0.00000000e+00,\n",
       "         0.00000000e+00,  0.00000000e+00,  0.00000000e+00,\n",
       "         0.00000000e+00,  0.00000000e+00, -7.63096633e-04,\n",
       "         4.20441924e-01, -4.29686655e-03, -6.18566638e-03,\n",
       "         2.01265438e+00,  8.26924408e-02, -5.77323251e-03,\n",
       "         8.29300558e-01, -1.31771351e-01, -1.00490989e-01,\n",
       "        -1.48812359e-01, -1.04464581e-01, -5.80706667e-01,\n",
       "        -1.05786614e-01, -5.85977276e-01, -5.71490265e-01]])"
      ]
     },
     "execution_count": 9,
     "metadata": {},
     "output_type": "execute_result"
    }
   ],
   "source": [
    "#Scale the data using Standard scaler with Mean = 0 and SD = 1\n",
    "\n",
    "# Get column names from features\n",
    "#col_names = x.columns\n",
    "# Creating Scaler object\n",
    "scaler_object = preprocessing.StandardScaler()\n",
    "# Fit data within the scaler object\n",
    "x = scaler_object.fit_transform(x)\n",
    "\n",
    "#x_train_std = scaler_object.transform(x_train)\n",
    "#x_test_std = scaler_object.transform(x_test)\n",
    "# concat into x feature \n",
    "#x = pd.DataFrame(scaled_df)\n",
    "\n",
    "x[0:5]"
   ]
  },
  {
   "cell_type": "code",
   "execution_count": 10,
   "metadata": {},
   "outputs": [
    {
     "name": "stdout",
     "output_type": "stream",
     "text": [
      "original shape:    (691406, 78)\n",
      "transformed shape: (691406, 2)\n"
     ]
    }
   ],
   "source": [
    "#Perform PCA on the feature vector to get a more precise accuracy on the dataset. Rescale from 78 features to 2 features.\n",
    "\n",
    "pca=PCA(n_components = 2)\n",
    "pca.fit(x)\n",
    "x_pca = pca.transform(x)\n",
    "print (\"original shape:   \", x.shape)\n",
    "print (\"transformed shape:\",x_pca.shape)\n",
    "\n",
    "x = x_pca\n"
   ]
  },
  {
   "cell_type": "code",
   "execution_count": 11,
   "metadata": {},
   "outputs": [],
   "source": [
    "#Split into test and training sets. 25% test sample \n",
    "\n",
    "x_train, x_test, y_train, y_test = train_test_split(x, y, test_size = 0.25, random_state=42)"
   ]
  },
  {
   "cell_type": "code",
   "execution_count": 12,
   "metadata": {},
   "outputs": [],
   "source": [
    "from sklearn.neural_network import MLPClassifier"
   ]
  },
  {
   "cell_type": "code",
   "execution_count": 13,
   "metadata": {},
   "outputs": [],
   "source": [
    "classifier = MLPClassifier(hidden_layer_sizes=(120,60,20), \n",
    "                           max_iter=50,activation = 'relu',solver='adam', \n",
    "                           early_stopping= True, learning_rate_init = 0.001, alpha = 1e-4, \n",
    "                           verbose = 5, random_state=42)\n",
    "#Uses Log Loss function\n",
    "#same as Categorical "
   ]
  },
  {
   "cell_type": "code",
   "execution_count": 14,
   "metadata": {
    "scrolled": true
   },
   "outputs": [
    {
     "name": "stdout",
     "output_type": "stream",
     "text": [
      "Iteration 1, loss = inf\n",
      "Validation score: 0.915420\n",
      "Iteration 2, loss = inf\n",
      "Validation score: 0.918370\n",
      "Iteration 3, loss = inf\n",
      "Validation score: 0.929786\n",
      "Iteration 4, loss = inf\n",
      "Validation score: 0.935610\n",
      "Iteration 5, loss = 0.25811321\n",
      "Validation score: 0.946062\n",
      "Iteration 6, loss = inf\n",
      "Validation score: 0.939621\n",
      "Iteration 7, loss = inf\n",
      "Validation score: 0.952503\n",
      "Iteration 8, loss = inf\n",
      "Validation score: 0.963052\n",
      "Iteration 9, loss = 0.20878373\n",
      "Validation score: 0.965636\n",
      "Iteration 10, loss = inf\n",
      "Validation score: 0.945676\n",
      "Iteration 11, loss = inf\n",
      "Validation score: 0.967487\n",
      "Iteration 12, loss = inf\n",
      "Validation score: 0.964228\n",
      "Iteration 13, loss = inf\n",
      "Validation score: 0.955801\n",
      "Iteration 14, loss = inf\n",
      "Validation score: 0.963669\n",
      "Iteration 15, loss = inf\n",
      "Validation score: 0.967815\n",
      "Iteration 16, loss = inf\n",
      "Validation score: 0.968991\n",
      "Iteration 17, loss = inf\n",
      "Validation score: 0.970013\n",
      "Iteration 18, loss = inf\n",
      "Validation score: 0.967101\n",
      "Iteration 19, loss = inf\n",
      "Validation score: 0.961702\n",
      "Iteration 20, loss = inf\n",
      "Validation score: 0.954007\n",
      "Iteration 21, loss = inf\n",
      "Validation score: 0.968683\n",
      "Iteration 22, loss = inf\n",
      "Validation score: 0.970476\n",
      "Iteration 23, loss = inf\n",
      "Validation score: 0.972231\n",
      "Iteration 24, loss = inf\n",
      "Validation score: 0.969261\n",
      "Iteration 25, loss = inf\n",
      "Validation score: 0.971864\n",
      "Iteration 26, loss = inf\n",
      "Validation score: 0.970013\n",
      "Iteration 27, loss = inf\n",
      "Validation score: 0.970283\n",
      "Iteration 28, loss = inf\n",
      "Validation score: 0.972019\n",
      "Iteration 29, loss = inf\n",
      "Validation score: 0.970534\n",
      "Iteration 30, loss = inf\n",
      "Validation score: 0.968432\n",
      "Iteration 31, loss = inf\n",
      "Validation score: 0.970495\n",
      "Iteration 32, loss = inf\n",
      "Validation score: 0.972559\n",
      "Iteration 33, loss = inf\n",
      "Validation score: 0.962917\n",
      "Iteration 34, loss = inf\n",
      "Validation score: 0.972636\n",
      "Iteration 35, loss = inf\n",
      "Validation score: 0.971459\n",
      "Iteration 36, loss = inf\n",
      "Validation score: 0.971922\n",
      "Iteration 37, loss = inf\n",
      "Validation score: 0.958385\n",
      "Iteration 38, loss = inf\n",
      "Validation score: 0.968856\n",
      "Iteration 39, loss = inf\n",
      "Validation score: 0.970129\n",
      "Iteration 40, loss = inf\n",
      "Validation score: 0.971826\n",
      "Iteration 41, loss = inf\n",
      "Validation score: 0.970649\n",
      "Iteration 42, loss = inf\n",
      "Validation score: 0.971498\n",
      "Iteration 43, loss = inf\n",
      "Validation score: 0.972231\n",
      "Validation score did not improve more than tol=0.000100 for 10 consecutive epochs. Stopping.\n"
     ]
    },
    {
     "data": {
      "text/plain": [
       "MLPClassifier(activation='relu', alpha=0.0001, batch_size='auto', beta_1=0.9,\n",
       "              beta_2=0.999, early_stopping=True, epsilon=1e-08,\n",
       "              hidden_layer_sizes=(120, 60, 20), learning_rate='constant',\n",
       "              learning_rate_init=0.001, max_iter=50, momentum=0.9,\n",
       "              n_iter_no_change=10, nesterovs_momentum=True, power_t=0.5,\n",
       "              random_state=42, shuffle=True, solver='adam', tol=0.0001,\n",
       "              validation_fraction=0.1, verbose=5, warm_start=False)"
      ]
     },
     "execution_count": 14,
     "metadata": {},
     "output_type": "execute_result"
    }
   ],
   "source": [
    "#Fitting the training data to the network\n",
    "classifier.fit(x_train, y_train)"
   ]
  },
  {
   "cell_type": "code",
   "execution_count": 15,
   "metadata": {},
   "outputs": [],
   "source": [
    "#Predicting y for x_validation\n",
    "y_pred = classifier.predict(x_test)"
   ]
  },
  {
   "cell_type": "code",
   "execution_count": 16,
   "metadata": {},
   "outputs": [],
   "source": [
    "from sklearn.metrics import confusion_matrix\n",
    "cm = confusion_matrix(y_pred.argmax(axis = 1), y_test.argmax(axis = 1))"
   ]
  },
  {
   "cell_type": "code",
   "execution_count": 1,
   "metadata": {},
   "outputs": [
    {
     "ename": "NameError",
     "evalue": "name 'cm' is not defined",
     "output_type": "error",
     "traceback": [
      "\u001b[1;31m---------------------------------------------------------------------------\u001b[0m",
      "\u001b[1;31mNameError\u001b[0m                                 Traceback (most recent call last)",
      "\u001b[1;32m<ipython-input-1-d95e7e125bdc>\u001b[0m in \u001b[0;36m<module>\u001b[1;34m\u001b[0m\n\u001b[1;32m----> 1\u001b[1;33m \u001b[0mcm\u001b[0m\u001b[1;33m\u001b[0m\u001b[1;33m\u001b[0m\u001b[0m\n\u001b[0m",
      "\u001b[1;31mNameError\u001b[0m: name 'cm' is not defined"
     ]
    }
   ],
   "source": [
    "cm"
   ]
  },
  {
   "cell_type": "code",
   "execution_count": 18,
   "metadata": {},
   "outputs": [],
   "source": [
    "#True Positive (TP) : Observation is positive, and is predicted to be positive.\n",
    "#False Negative (FN) : Observation is positive, but is predicted negative.\n",
    "#True Negative (TN) : Observation is negative, and is predicted to be negative.\n",
    "#False Positive (FP) : Observation is negative, but is predicted positive.\n",
    "\n",
    "TP = 107588\n",
    "FP = 2281\n",
    "FN = 2303\n",
    "TN = 60680"
   ]
  },
  {
   "cell_type": "code",
   "execution_count": 19,
   "metadata": {},
   "outputs": [
    {
     "name": "stdout",
     "output_type": "stream",
     "text": [
      "Accuracy 0.973480202716775\n"
     ]
    }
   ],
   "source": [
    "Acc = ((TP + TN)/(TP + TN + FP + FN))\n",
    "\n",
    "print( \"Accuracy\", Acc)"
   ]
  },
  {
   "cell_type": "code",
   "execution_count": 20,
   "metadata": {},
   "outputs": [
    {
     "name": "stdout",
     "output_type": "stream",
     "text": [
      "Recall 0.979042869752755\n"
     ]
    }
   ],
   "source": [
    "# Recall \n",
    "\n",
    "Recall = ((TP)/(TP + FN))\n",
    "\n",
    "print(\"Recall\", Recall)"
   ]
  },
  {
   "cell_type": "code",
   "execution_count": 21,
   "metadata": {},
   "outputs": [
    {
     "name": "stdout",
     "output_type": "stream",
     "text": [
      "Precision 0.9792389117949558\n"
     ]
    }
   ],
   "source": [
    "# Precision\n",
    "\n",
    "Precision = ((TP)/(TP+FP))\n",
    "\n",
    "print(\"Precision\", Precision)"
   ]
  },
  {
   "cell_type": "code",
   "execution_count": 22,
   "metadata": {},
   "outputs": [
    {
     "name": "stdout",
     "output_type": "stream",
     "text": [
      "F1 Score 0.9791408809610483\n"
     ]
    }
   ],
   "source": [
    "#F1 Score \n",
    "\n",
    "F1 = ((2*Recall*Precision)/(Recall + Precision))\n",
    "\n",
    "print (\"F1 Score\", F1)"
   ]
  },
  {
   "cell_type": "code",
   "execution_count": 76,
   "metadata": {},
   "outputs": [],
   "source": [
    "#parameter_space = {\n",
    "  #  'hidden_layer_sizes': [(150,100,50), (100,50,25), (200,)],\n",
    "  #  'activation': ['tanh', 'relu'],\n",
    "  #  'solver': ['sgd', 'adam'],\n",
    "  #  'alpha': [0.0001, 0.05],\n",
    "  #  'learning_rate': ['constant','adaptive'],\n",
    "#}"
   ]
  },
  {
   "cell_type": "code",
   "execution_count": null,
   "metadata": {},
   "outputs": [],
   "source": [
    "#from sklearn.model_selection import GridSearchCV\n",
    "\n",
    "#clf = GridSearchCV(classifier, parameter_space, n_jobs=-1, cv=3)\n",
    "#clf.fit(x_train, y_train)"
   ]
  },
  {
   "cell_type": "code",
   "execution_count": 23,
   "metadata": {},
   "outputs": [
    {
     "ename": "NameError",
     "evalue": "name 'model' is not defined",
     "output_type": "error",
     "traceback": [
      "\u001b[1;31m---------------------------------------------------------------------------\u001b[0m",
      "\u001b[1;31mNameError\u001b[0m                                 Traceback (most recent call last)",
      "\u001b[1;32m<ipython-input-23-c6b5b41b4742>\u001b[0m in \u001b[0;36m<module>\u001b[1;34m\u001b[0m\n\u001b[0;32m      1\u001b[0m \u001b[1;32mfrom\u001b[0m \u001b[0mkeras\u001b[0m\u001b[1;33m.\u001b[0m\u001b[0mmodels\u001b[0m \u001b[1;32mimport\u001b[0m \u001b[0mload_model\u001b[0m\u001b[1;33m\u001b[0m\u001b[1;33m\u001b[0m\u001b[0m\n\u001b[0;32m      2\u001b[0m \u001b[1;33m\u001b[0m\u001b[0m\n\u001b[1;32m----> 3\u001b[1;33m \u001b[0mmodel\u001b[0m\u001b[1;33m.\u001b[0m\u001b[0msave\u001b[0m\u001b[1;33m(\u001b[0m\u001b[1;34m'y_pred'\u001b[0m\u001b[1;33m)\u001b[0m  \u001b[1;31m# creates a HDF5 file 'my_model.h5'\u001b[0m\u001b[1;33m\u001b[0m\u001b[1;33m\u001b[0m\u001b[0m\n\u001b[0m\u001b[0;32m      4\u001b[0m \u001b[1;32mdel\u001b[0m \u001b[0mmodel\u001b[0m  \u001b[1;31m# deletes the existing model\u001b[0m\u001b[1;33m\u001b[0m\u001b[1;33m\u001b[0m\u001b[0m\n\u001b[0;32m      5\u001b[0m \u001b[1;33m\u001b[0m\u001b[0m\n",
      "\u001b[1;31mNameError\u001b[0m: name 'model' is not defined"
     ]
    }
   ],
   "source": [
    "from keras.models import load_model\n",
    "\n",
    "model.save('y_pred')  # creates a HDF5 file 'my_model.h5'\n",
    "del model  # deletes the existing model\n",
    "\n",
    "# returns a compiled model\n",
    "# identical to the previous one\n",
    "model = load_model('y_pred')"
   ]
  },
  {
   "cell_type": "code",
   "execution_count": null,
   "metadata": {},
   "outputs": [],
   "source": []
  }
 ],
 "metadata": {
  "kernelspec": {
   "display_name": "Python 3.6 (tensorflow)",
   "language": "python",
   "name": "tensorflow"
  },
  "language_info": {
   "codemirror_mode": {
    "name": "ipython",
    "version": 3
   },
   "file_extension": ".py",
   "mimetype": "text/x-python",
   "name": "python",
   "nbconvert_exporter": "python",
   "pygments_lexer": "ipython3",
   "version": "3.6.8"
  }
 },
 "nbformat": 4,
 "nbformat_minor": 2
}
